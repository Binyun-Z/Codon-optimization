{
 "cells": [
  {
   "cell_type": "code",
   "execution_count": null,
   "metadata": {},
   "outputs": [],
   "source": [
    "import pandas as pd\n",
    "codon_table_full = { 'A': ['GCT','GCC','GCA','GCG'],\n",
    "                'C': ['TGT','TGC'],\n",
    "                'D': ['GAT','GAC'],\n",
    "                'E': ['GAA','GAG'],\n",
    "                'F': ['TTT','TTC'],\n",
    "                'G': ['GGT','GGC','GGA','GGG'],\n",
    "                'H': ['CAT','CAC'],\n",
    "                'I': ['ATT','ATC','ATA'],\n",
    "                'K': ['AAA','AAG'],\n",
    "                'L': ['TTA','TTG','CTT','CTC','CTA','CTG'],\n",
    "                'M': ['ATG'],\n",
    "                'N': ['AAT','AAC'],\n",
    "                'P': ['CCT','CCC','CCA','CCG'],\n",
    "                'Q': ['CAA','CAG'],\n",
    "                'R': ['CGT','CGC','CGA','CGG','AGA','AGG'],\n",
    "                'S': ['AGT','AGC','TCT','TCC','TCA','TCG'],\n",
    "                'T': ['ACT','ACC','ACA','ACG'],\n",
    "                'V': ['GTT','GTC','GTA','GTG'],\n",
    "                'W': ['TGG'],\n",
    "                'Y': ['TAT','TAC'],\n",
    "                '*': ['TAG','TAA','TGA'] }  \n",
    "\n",
    "def get_amino_acid(codon):\n",
    "    for amino_acid, codons in codon_table_full.items():\n",
    "        if codon in codons:\n",
    "            return amino_acid\n",
    "    return None"
   ]
  },
  {
   "cell_type": "code",
   "execution_count": null,
   "metadata": {},
   "outputs": [],
   "source": [
    "import re\n",
    "\n",
    "text = \"\"\"\n",
    "UUU 15.9( 46804) UCU 21.8( 64161) UAU 6.8( 20043) UGU 6.1( 17849)\n",
    "UUC 23.0( 67672) UCC 20.6( 60695) UAC 23.1( 68146) UGC 6.1( 17903)\n",
    "UUA 1.8( 5280) UCA 7.8( 22845) UAA 0.8( 2494) UGA 0.4( 1148)\n",
    "UUG 10.4( 30576) UCG 15.4( 45255) UAG 0.8( 2325) UGG 12.1( 35555)\n",
    "\n",
    "CUU 13.2( 38890) CCU 17.4( 51329) CAU 9.6( 28191) CGU 6.0( 17622)\n",
    "CUC 22.6( 66461) CCC 23.3( 68633) CAC 14.4( 42490) CGC 4.4( 12915)\n",
    "CUA 5.3( 15548) CCA 6.9( 20234) CAA 9.8( 28769) CGA 21.7( 63881)\n",
    "CUG 33.5( 98823) CCG 6.8( 20042) CAG 32.1( 94609) CGG 7.7( 22606)\n",
    "\n",
    "AUU 22.4( 66134) ACU 16.2( 47842) AAU 8.9( 26184) AGU 6.7( 19861)\n",
    "AUC 24.4( 71810) ACC 25.6( 75551) AAC 31.3( 92161) AGC 9.8( 28855)\n",
    "AUA 2.2( 6342) ACA 10.5( 30844) AAA 12.4( 36672) AGA 8.4( 24674)\n",
    "AUG 22.6( 66620) ACG 8.5( 25021) AAG 46.5(136914) AGG 2.4( 7208)\n",
    "\n",
    "GUU 15.8( 46530) GCU 25.5( 75193) GAU 21.5( 63259) GGU 16.6( 48902)\n",
    "GUC 21.5( 63401) GCC 32.7( 96219) GAC 38.3(112759) GGC 21.8( 64272)\n",
    "GUA 4.0( 11840) GCA 11.2( 32999) GAA 18.8( 55382) GGA 20.9( 61597)\n",
    "GUG 25.7( 75765) GCG 8.9( 26190) GAG 46.2(136241) GGG 4.4( 12883)\n",
    "\"\"\"\n",
    "text = text.replace('U','T')\n",
    "matches = re.findall(r'\\w+\\s+\\d+\\.\\d+', text)\n",
    "codon_list = []\n",
    "per_list = []\n",
    "AmOneLet_list = []\n",
    "for i ,match in enumerate( matches):\n",
    "    AmOneLet_list.append(get_amino_acid(match.split(' ')[0]))\n",
    "    codon_list.append(match.split(' ')[0])\n",
    "    per_list.append(match.split(' ')[1])\n",
    "\n",
    "CLIB_use = pd.DataFrame({'AmOneLet':AmOneLet_list,'Codon':codon_list,'frequency':per_list})\n",
    "CLIB_use"
   ]
  },
  {
   "cell_type": "code",
   "execution_count": null,
   "metadata": {},
   "outputs": [],
   "source": [
    "CLIB_use.to_excel('./CLIB2.0.xlsx',index=False)"
   ]
  }
 ],
 "metadata": {
  "language_info": {
   "name": "python"
  },
  "orig_nbformat": 4
 },
 "nbformat": 4,
 "nbformat_minor": 2
}
